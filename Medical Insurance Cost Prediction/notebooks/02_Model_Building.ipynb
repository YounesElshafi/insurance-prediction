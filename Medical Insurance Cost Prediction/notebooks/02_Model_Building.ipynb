{
 "cells": [
  {
   "cell_type": "markdown",
   "id": "82019e07-6589-4d89-bc55-73f70417fa8f",
   "metadata": {},
   "source": [
    "# Model Training and Evaluation Notebook"
   ]
  },
  {
   "cell_type": "code",
   "execution_count": 11,
   "id": "a638017d-ce41-4112-a675-0275103a7a11",
   "metadata": {},
   "outputs": [],
   "source": [
    "# Add the project root directory to the system path to allow importing modules from it\n",
    "# Useful when running scripts from subdirectories or notebooks\n",
    "import sys\n",
    "import os\n",
    "sys.path.append(os.path.abspath(r'D:\\programming\\AI\\usif elshafie\\Git hub\\insurance-prediction'))"
   ]
  },
  {
   "cell_type": "code",
   "execution_count": 15,
   "id": "7e923388-25d1-439e-b4e3-000bcc63d438",
   "metadata": {},
   "outputs": [],
   "source": [
    "# -----------------------------------------------\n",
    "# 🧩 Import libraries \n",
    "# -----------------------------------------------\n",
    "import pandas as pd\n",
    "import numpy as np\n",
    "from sklearn.linear_model import LinearRegression\n",
    "from sklearn.model_selection import train_test_split\n",
    "from sklearn.metrics import mean_absolute_error, mean_squared_error, r2_score\n",
    "from sklearn.preprocessing import StandardScaler\n",
    "import joblib\n",
    "from src.preprocessing import load_data, encode_data, split_by_smoker"
   ]
  },
  {
   "cell_type": "code",
   "execution_count": 57,
   "id": "21f249c9-ea08-4586-98e5-84201f044636",
   "metadata": {},
   "outputs": [],
   "source": [
    "# -----------------------------------------------\n",
    "# ⚙️ Training and evaluation function\n",
    "# -----------------------------------------------\n",
    "def train_and_evaluate(df, model_name=\"Model\"):\n",
    "    \"\"\"\n",
    "    Train a Linear Regression model on the given dataframe and print evaluation metrics.\n",
    "    - Splits data into features and target\n",
    "    - Splits into train/test sets\n",
    "    - Applies scaling to numeric features\n",
    "    - Trains a linear model\n",
    "    - Evaluates performance (MAE, RMSE, R2)\n",
    "    \"\"\"\n",
    "    # Split into X and y\n",
    "    X = df.drop('charges', axis=1)\n",
    "    y = df['charges']\n",
    "\n",
    "    # Train-test split\n",
    "    X_train, X_test, y_train, y_test = train_test_split(X, y, test_size=0.2, random_state=42)\n",
    "\n",
    "    # Scale only numeric columns\n",
    "    numeric_cols = ['age', 'bmi', 'children']\n",
    "    scaler = StandardScaler()\n",
    "    X_train_scaled = X_train.copy()\n",
    "    X_test_scaled = X_test.copy()\n",
    "    X_train_scaled[numeric_cols] = scaler.fit_transform(X_train[numeric_cols])\n",
    "    X_test_scaled[numeric_cols] = scaler.transform(X_test[numeric_cols])\n",
    "\n",
    "    # Train model\n",
    "    model = LinearRegression()\n",
    "    model.fit(X_train_scaled, y_train)\n",
    "\n",
    "    # Predict\n",
    "    y_pred = model.predict(X_test_scaled)\n",
    "\n",
    "    # Evaluation\n",
    "    mae = mean_absolute_error(y_test, y_pred)\n",
    "    rmse = np.sqrt(mean_squared_error(y_test, y_pred))\n",
    "    r2 = r2_score(y_test, y_pred)\n",
    "\n",
    "    print(f\"\\n🔹 Results for {model_name}:\")\n",
    "    print(f\"   MAE  = {mae:.2f}\")\n",
    "    print(f\"   RMSE = {rmse:.2f}\")\n",
    "    print(f\"   R²   = {r2:.4f}\")\n",
    "\n",
    "    return model, scaler\n"
   ]
  },
  {
   "cell_type": "code",
   "execution_count": 45,
   "id": "d3eb2da5-8bf5-426f-be4a-a33b91d0b386",
   "metadata": {},
   "outputs": [],
   "source": [
    "# -----------------------------------------------\n",
    "# 🚀 Load and prepare the dataset\n",
    "# -----------------------------------------------\n",
    "df = load_data(\"../data/insurance.csv\")\n",
    "df = encode_data(df)\n"
   ]
  },
  {
   "cell_type": "code",
   "execution_count": 47,
   "id": "ff30b01a-2d50-4e11-9381-c9f777d7e8f3",
   "metadata": {},
   "outputs": [],
   "source": [
    "# Split based on smoker status\n",
    "smoker_df, nonsmoker_df = split_by_smoker(df)\n"
   ]
  },
  {
   "cell_type": "code",
   "execution_count": 69,
   "id": "b996f381-4747-406f-8ba4-4d0a1850109e",
   "metadata": {},
   "outputs": [
    {
     "name": "stdout",
     "output_type": "stream",
     "text": [
      "\n",
      "🔹 Results for All Data:\n",
      "   MAE  = 4181.19\n",
      "   RMSE = 5796.28\n",
      "   R²   = 0.7836\n",
      "\n",
      "🔹 Results for Smokers:\n",
      "   MAE  = 4774.73\n",
      "   RMSE = 6697.87\n",
      "   R²   = 0.7010\n",
      "\n",
      "🔹 Results for Non-Smokers:\n",
      "   MAE  = 2422.00\n",
      "   RMSE = 4363.45\n",
      "   R²   = 0.4577\n"
     ]
    }
   ],
   "source": [
    "# -----------------------------------------------\n",
    "# 🧪 Train and evaluate models\n",
    "# -----------------------------------------------\n",
    "model_all, scaler_all = train_and_evaluate(df, \"All Data\")\n",
    "model_smoker, scaler_smoker = train_and_evaluate(smoker_df, \"Smokers\")\n",
    "model_nonsmoker, scaler_nonsmoker = train_and_evaluate(nonsmoker_df, \"Non-Smokers\")\n",
    "\n"
   ]
  },
  {
   "cell_type": "code",
   "execution_count": 75,
   "id": "5e468e91-22df-407b-b206-2256cc7d4c2d",
   "metadata": {},
   "outputs": [
    {
     "data": {
      "text/plain": [
       "['../models/scaler_nonsmokers.pkl']"
      ]
     },
     "execution_count": 75,
     "metadata": {},
     "output_type": "execute_result"
    }
   ],
   "source": [
    "# Create output directory\n",
    "os.makedirs(\"../models\", exist_ok=True)\n",
    "\n",
    "# Save all models and scalers\n",
    "joblib.dump(model_all, \"../models/model_all.pkl\")\n",
    "joblib.dump(scaler_all, \"../models/scaler_all.pkl\")\n",
    "\n",
    "joblib.dump(model_smoker, \"../models/model_smokers.pkl\")\n",
    "joblib.dump(scaler_smoker, \"../models/scaler_smokers.pkl\")\n",
    "\n",
    "joblib.dump(model_nonsmoker, \"../models/model_nonsmokers.pkl\")\n",
    "joblib.dump(scaler_nonsmoker, \"../models/scaler_nonsmokers.pkl\")\n"
   ]
  },
  {
   "cell_type": "code",
   "execution_count": null,
   "id": "4301b335-363d-4b24-a6b6-ec9b26ceb77a",
   "metadata": {},
   "outputs": [],
   "source": []
  }
 ],
 "metadata": {
  "kernelspec": {
   "display_name": "Python [conda env:env_ai_tensor]",
   "language": "python",
   "name": "conda-env-env_ai_tensor-py"
  },
  "language_info": {
   "codemirror_mode": {
    "name": "ipython",
    "version": 3
   },
   "file_extension": ".py",
   "mimetype": "text/x-python",
   "name": "python",
   "nbconvert_exporter": "python",
   "pygments_lexer": "ipython3",
   "version": "3.10.16"
  }
 },
 "nbformat": 4,
 "nbformat_minor": 5
}
