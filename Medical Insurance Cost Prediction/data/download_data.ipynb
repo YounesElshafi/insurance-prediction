{
 "cells": [
  {
   "cell_type": "markdown",
   "id": "69cce2d1-5cda-40bc-9769-ae8f8c443d0a",
   "metadata": {},
   "source": [
    "# Dwonload Data"
   ]
  },
  {
   "cell_type": "code",
   "execution_count": 6,
   "id": "944a2963-3fe9-4450-9555-9e22adaf37db",
   "metadata": {},
   "outputs": [
    {
     "name": "stdout",
     "output_type": "stream",
     "text": [
      "Downloading from https://www.kaggle.com/api/v1/datasets/download/mirichoi0218/insurance?dataset_version_number=1...\n"
     ]
    },
    {
     "name": "stderr",
     "output_type": "stream",
     "text": [
      "100%|█████████████████████████████████████████████████████████████████████████████| 16.0k/16.0k [00:00<00:00, 1.10MB/s]"
     ]
    },
    {
     "name": "stdout",
     "output_type": "stream",
     "text": [
      "Extracting files...\n",
      "Path to dataset files: C:\\Users\\usife\\.cache\\kagglehub\\datasets\\mirichoi0218\\insurance\\versions\\1\n"
     ]
    },
    {
     "name": "stderr",
     "output_type": "stream",
     "text": [
      "\n"
     ]
    }
   ],
   "source": [
    "import kagglehub\n",
    "\n",
    "path = kagglehub.dataset_download(\"mirichoi0218/insurance\")\n",
    "\n",
    "print(\"Path to dataset files:\", path)"
   ]
  },
  {
   "cell_type": "markdown",
   "id": "64128332-0256-4ef5-ad99-d4c4da481341",
   "metadata": {},
   "source": [
    "## Go to the downloaded path and move the dataset file here"
   ]
  },
  {
   "cell_type": "code",
   "execution_count": null,
   "id": "41a07bd9-e116-4369-8fc1-0094666c5bdc",
   "metadata": {},
   "outputs": [],
   "source": []
  }
 ],
 "metadata": {
  "kernelspec": {
   "display_name": "Python [conda env:env_ai_tensor]",
   "language": "python",
   "name": "conda-env-env_ai_tensor-py"
  },
  "language_info": {
   "codemirror_mode": {
    "name": "ipython",
    "version": 3
   },
   "file_extension": ".py",
   "mimetype": "text/x-python",
   "name": "python",
   "nbconvert_exporter": "python",
   "pygments_lexer": "ipython3",
   "version": "3.10.16"
  }
 },
 "nbformat": 4,
 "nbformat_minor": 5
}
